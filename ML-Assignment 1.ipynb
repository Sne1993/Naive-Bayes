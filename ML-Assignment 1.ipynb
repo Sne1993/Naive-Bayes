{
 "cells": [
  {
   "cell_type": "markdown",
   "metadata": {},
   "source": [
    "# Machine Learning - Assignment 1\n",
    "\n",
    "## Naive Bayes Learning algorithm, Cross-validation, and ROC-Curves"
   ]
  },
  {
   "cell_type": "markdown",
   "metadata": {},
   "source": [
    "The aim of the assignment is to implement:\n",
    "\n",
    "* Naive Bayes learning algorithm for binary classification tasks\n",
    "* Visualization to plot a ROC-curve\n",
    "* A cross-validation test\n",
    "* Visualization of the average ROC-curve of a cross-validation test\n",
    "\n",
    "Follow the instructions and implement what is missing to complete the assignment. Some functions have been started to help you a little bit with the inputs or outputs of the function.\n",
    "\n",
    "**Note:** You might need to go back and forth during your implementation of the code. The structure is set up to make implementation easier, but how you return values from the different functions might vary, and you might find yourself going back and change something to make it easier later on."
   ]
  },
  {
   "cell_type": "markdown",
   "metadata": {},
   "source": [
    "## Assignment preparations"
   ]
  },
  {
   "cell_type": "markdown",
   "metadata": {},
   "source": [
    "We help you out with importing the libraries and reading the data.\n",
    "\n",
    "Look at the output to get an idea of how the data is structured."
   ]
  },
  {
   "cell_type": "code",
   "execution_count": 1,
   "metadata": {},
   "outputs": [
    {
     "name": "stdout",
     "output_type": "stream",
     "text": [
      "Full data array (features and labels):\n",
      "[[5.1 3.5 1.4 0.2 0]\n",
      " [4.9 3.0 1.4 0.2 0]]\n",
      "\n",
      "###############\n",
      "\n",
      "Train features (first 4 columns):\n",
      "[[5.1 3.5 1.4 0.2]\n",
      " [4.9 3.0 1.4 0.2]\n",
      " [4.7 3.2 1.3 0.2]]\n",
      "\n",
      "Labels (last column):\n",
      "[[0]\n",
      " [0]\n",
      " [0]]\n",
      "\n",
      "Names of labels:\n",
      "[[0, 'Iris-setosa'], [1, 'Iris-versicolor'], [2, 'Iris-virginica']]\n"
     ]
    }
   ],
   "source": [
    "import numpy as np\n",
    "import pandas as pd\n",
    "import matplotlib.pyplot as plt\n",
    "\n",
    "from math import e, pi, sqrt\n",
    "\n",
    "data = pd.read_csv(\"iris.csv\").to_numpy()\n",
    "#data = np.delete(data, 0, axis=0)\n",
    "\n",
    "mapped, index, unique_arr = np.unique(data[:, -1], return_index=True, return_inverse=True)\n",
    "data[:, -1] = unique_arr\n",
    "\n",
    "iris_setosa, iris_versicolor, iris_virginica = np.split(data, index[1:])\n",
    "\n",
    "print(f\"Full data array (features and labels):\\n{iris_setosa[:2]}\\n\")\n",
    "print(\"###############\\n\")\n",
    "print(f\"Train features (first 4 columns):\\n{iris_setosa[:3, :-1]}\\n\")\n",
    "print(f\"Labels (last column):\\n{iris_setosa[:3, -1:]}\\n\")\n",
    "print(f\"Names of labels:\\n{[[numb, name] for numb, name in enumerate(mapped)]}\")\n",
    "labels_info = [[numb, name] for numb, name in enumerate(mapped)]\n",
    "class_labels = [label[0] for label in labels_info]\n",
    "\n"
   ]
  },
  {
   "cell_type": "code",
   "execution_count": 2,
   "metadata": {},
   "outputs": [
    {
     "data": {
      "text/plain": [
       "array([[5.1, 3.5, 1.4, 0.2, 0],\n",
       "       [4.9, 3.0, 1.4, 0.2, 0],\n",
       "       [4.7, 3.2, 1.3, 0.2, 0]], dtype=object)"
      ]
     },
     "execution_count": 2,
     "metadata": {},
     "output_type": "execute_result"
    }
   ],
   "source": [
    "# Example print of the 3 first datapoints (similar as above):\n",
    "iris_setosa[:3]"
   ]
  },
  {
   "cell_type": "markdown",
   "metadata": {},
   "source": [
    "## Data handling functions\n",
    "\n",
    "As a start, we are going to implement some basic data handling functions to use in the future."
   ]
  },
  {
   "cell_type": "markdown",
   "metadata": {},
   "source": [
    "### 1) Split class into a train and test set\n",
    "\n",
    "First, we need to be able to split the class into a train and test set."
   ]
  },
  {
   "cell_type": "code",
   "execution_count": 3,
   "metadata": {},
   "outputs": [],
   "source": [
    "def train_test_split(class_data):\n",
    "\n",
    "    split_ratio=0.8\n",
    "\n",
    "    class_data = np.array(class_data)\n",
    "    \n",
    "    features = class_data[:, :-1]\n",
    "    labels = class_data[:, -1]\n",
    "    \n",
    "    unique_classes = np.unique(labels)\n",
    "    \n",
    "    train_data = []\n",
    "    test_data = []\n",
    "    \n",
    "    for cls in unique_classes:\n",
    "        cls_indices = np.where(labels == cls)[0]\n",
    "        np.random.shuffle(cls_indices)\n",
    "        split_index = int(len(cls_indices) * split_ratio)\n",
    "        train_indices = cls_indices[:split_index]\n",
    "        test_indices = cls_indices[split_index:]\n",
    "        train_data.extend(class_data[train_indices])\n",
    "        test_data.extend(class_data[test_indices])\n",
    "    \n",
    "    train_data = np.array(train_data)\n",
    "    test_data = np.array(test_data)\n",
    "    \n",
    "    np.random.shuffle(train_data)\n",
    "    np.random.shuffle(test_data)\n",
    "    \n",
    "    return train_data, test_data"
   ]
  },
  {
   "cell_type": "code",
   "execution_count": 4,
   "metadata": {},
   "outputs": [
    {
     "name": "stdout",
     "output_type": "stream",
     "text": [
      "Train data(first 5 rows):\n",
      "[[5.1 3.7 1.5 0.4 0]\n",
      " [4.9 3.1 1.5 0.1 0]\n",
      " [5.7 4.4 1.5 0.4 0]\n",
      " [4.4 3.2 1.3 0.2 0]\n",
      " [4.6 3.2 1.4 0.2 0]]\n",
      "\n",
      "Test data(first 5 rows):\n",
      "[[4.6 3.6 1.0 0.2 0]\n",
      " [4.7 3.2 1.6 0.2 0]\n",
      " [5.4 3.7 1.5 0.2 0]\n",
      " [5.4 3.9 1.3 0.4 0]\n",
      " [5.1 3.4 1.5 0.2 0]]\n",
      "\n"
     ]
    }
   ],
   "source": [
    "# TODO: Test the train_test_split function\n",
    "\n",
    "iris_setosa_train_data, iris_setosa_test_data = train_test_split(iris_setosa)\n",
    "\n",
    "# TODO: Print the output\n",
    "print(f\"Train data(first 5 rows):\\n{iris_setosa_train_data[:5]}\\n\")\n",
    "print(f\"Test data(first 5 rows):\\n{iris_setosa_test_data[:5]}\\n\")"
   ]
  },
  {
   "cell_type": "markdown",
   "metadata": {},
   "source": [
    "### 2) Split data into features and labels\n",
    "\n",
    "The data as shown above is not always the optimal shape. To help us keep track of things, we can split the data into its features and labels seperately.\n",
    "\n",
    "Each class is 4 features and 1 label in the same array: \n",
    "\n",
    "* **[feature 1, feature 2, feature 3, feature 4, label]**\n",
    "\n",
    "It would help us later to have the features and labels in seperate arrays in the form: \n",
    "\n",
    "* **[feature 1, feature 2, feature 3, feature 4]** and **[label]**\n",
    "\n",
    "Here you are going to implement this functionallity."
   ]
  },
  {
   "cell_type": "code",
   "execution_count": 5,
   "metadata": {},
   "outputs": [],
   "source": [
    "def class_split(data):\n",
    "    features = data[:, :-1].astype(float)\n",
    "    labels = data[:, -1].astype(int)\n",
    "    return features, labels"
   ]
  },
  {
   "cell_type": "markdown",
   "metadata": {},
   "source": [
    "We should first test the \"**class_split**\" function on one of the classes above (iris_setosa, etc...) to make sure it works properly."
   ]
  },
  {
   "cell_type": "code",
   "execution_count": 6,
   "metadata": {},
   "outputs": [
    {
     "name": "stdout",
     "output_type": "stream",
     "text": [
      "Train features(first 5 rows):\n",
      "[[5.1 3.7 1.5 0.4]\n",
      " [4.9 3.1 1.5 0.1]\n",
      " [5.7 4.4 1.5 0.4]\n",
      " [4.4 3.2 1.3 0.2]\n",
      " [4.6 3.2 1.4 0.2]]\n",
      "\n",
      "Train labels:\n",
      "[0 0 0 0 0]\n",
      "\n"
     ]
    }
   ],
   "source": [
    "# TODO: Test the class splitting function\n",
    "iris_setosa_train_features, iris_setosa_train_labels = class_split(iris_setosa_train_data)\n",
    "\n",
    "# TODO: Print the output\n",
    "print(f\"Train features(first 5 rows):\\n{iris_setosa_train_features[:5]}\\n\")\n",
    "print(f\"Train labels:\\n{iris_setosa_train_labels[:5]}\\n\")"
   ]
  },
  {
   "cell_type": "markdown",
   "metadata": {},
   "source": [
    "We should also try to **1)** first split a class into a train and test set, **2)** split each of these two into features and abels. In total there should be 4 arrays (2 feature and 2 label arrays)."
   ]
  },
  {
   "cell_type": "code",
   "execution_count": 7,
   "metadata": {},
   "outputs": [
    {
     "name": "stdout",
     "output_type": "stream",
     "text": [
      "Train data Features:\n",
      " [[5.4 3.9 1.3 0.4]\n",
      " [5.3 3.7 1.5 0.2]\n",
      " [4.9 3.1 1.5 0.1]\n",
      " [5.1 3.4 1.5 0.2]\n",
      " [4.4 3.  1.3 0.2]]\n",
      "Train data Label:\n",
      " [0 0 0 0 0]\n",
      "Test data Features:\n",
      " [[5.2 3.4 1.4 0.2]\n",
      " [4.3 3.  1.1 0.1]\n",
      " [5.  3.5 1.6 0.6]\n",
      " [5.  3.3 1.4 0.2]\n",
      " [5.1 3.8 1.9 0.4]]\n",
      "Test data Label:\n",
      " [0 0 0 0 0]\n"
     ]
    }
   ],
   "source": [
    "# TODO: Use the above data handling functions to make 2 feature arrays and 2 label arrays. \n",
    "\n",
    "iris_setosa_data = np.array(iris_setosa)\n",
    "iris_setosa_train_data, iris_setosa_test_data = train_test_split(iris_setosa_data)\n",
    "iris_setosa_train_data = np.array(iris_setosa_train_data)\n",
    "iris_setosa_test_data = np.array(iris_setosa_test_data)\n",
    "iris_setosa_traindata_features,iris_setosa_traindata_label = class_split(iris_setosa_train_data)\n",
    "iris_setosa_testdata_features,iris_setosa_testdata_label = class_split(iris_setosa_test_data)\n",
    "\n",
    "\n",
    "# TODO: Print the output (you may use multiple print-statements if you wish)\n",
    "\n",
    "print('Train data Features:\\n', iris_setosa_traindata_features[:5])\n",
    "print('Train data Label:\\n', iris_setosa_traindata_label[:5])\n",
    "print('Test data Features:\\n', iris_setosa_testdata_features[:5])\n",
    "print('Test data Label:\\n', iris_setosa_testdata_label[:5])"
   ]
  },
  {
   "cell_type": "markdown",
   "metadata": {},
   "source": [
    "Think a bit before going to the next task, what can easily go wrong in the above code?"
   ]
  },
  {
   "cell_type": "markdown",
   "metadata": {},
   "source": [
    "## Naive Bayes learning algorithm"
   ]
  },
  {
   "cell_type": "markdown",
   "metadata": {},
   "source": [
    "When implementing the Navie Bayes learning algorithm, we can break it down into a few components.\n",
    "\n",
    "We will implement these components one at a time."
   ]
  },
  {
   "cell_type": "markdown",
   "metadata": {},
   "source": [
    "### 3) Calculate feature statistics\n",
    "\n",
    "First, we need to implement a function that returns feature statistics (means, standard deviation, priors) for a given set of feature data for a single class. This is the equivalent of \"training\" the naive bayes model.\n",
    "\n",
    "**Note 1:** Each feature gets its own mean and standard deviation!\n",
    "\n",
    "**Note 2:** The way you structure the functions (what is returned) shapes the remainder of the assignment."
   ]
  },
  {
   "cell_type": "code",
   "execution_count": 8,
   "metadata": {},
   "outputs": [],
   "source": [
    "def calculate_feature_statistics(feature_data, class_labels):\n",
    "    stats = {}\n",
    "    unique_labels = np.unique(class_labels)\n",
    "    for label in unique_labels:\n",
    "        class_data = feature_data[class_labels == label].astype(float)\n",
    "        stats[label] = {\n",
    "            'mean': np.mean(class_data, axis=0),\n",
    "            'std': np.std(class_data, axis=0),\n",
    "            'prior': len(class_data) / len(feature_data)\n",
    "        }\n",
    "    return stats"
   ]
  },
  {
   "cell_type": "markdown",
   "metadata": {},
   "source": [
    "To make sure the function works, we should test it before proceding."
   ]
  },
  {
   "cell_type": "code",
   "execution_count": 9,
   "metadata": {},
   "outputs": [
    {
     "name": "stdout",
     "output_type": "stream",
     "text": [
      "Feature stats:\n",
      " {0: {'mean': array([5.03, 3.45, 1.46, 0.24]), 'std': array([0.34871192, 0.34423829, 0.16093477, 0.09433981]), 'prior': 1.0}}\n",
      "Feature data count: 40\n",
      "Train feature count: 40\n",
      "Mean: [5.03 3.45 1.46 0.24]\n",
      "Standard deviation: [0.34871192 0.34423829 0.16093477 0.09433981]\n",
      "Prior: 1.0\n"
     ]
    }
   ],
   "source": [
    "# TODO: Make sure to use our previous class splitting function.\n",
    "\n",
    "iris_setosa_train_data = np.array(iris_setosa_train_data)\n",
    "iris_setosa_feature_data, iris_setosa_label_data = class_split(iris_setosa_train_data)\n",
    "iris_setosa_feature_data = np.array(iris_setosa_feature_data)\n",
    "iris_setosa_label_data = np.array(iris_setosa_label_data)\n",
    "\n",
    "feature_stats = calculate_feature_statistics(iris_setosa_feature_data,iris_setosa_label_data)\n",
    "\n",
    "unique_labels = np.unique(iris_setosa_label_data).astype(int)\n",
    "\n",
    "label = unique_labels[0]\n",
    "mean = feature_stats[label]['mean']\n",
    "stdevs = feature_stats[label]['std']\n",
    "prior = feature_stats[label]['prior']\n",
    "\n",
    "# Output\n",
    "print('Feature stats:\\n', feature_stats)\n",
    "print('Feature data count:', len(iris_setosa_feature_data))\n",
    "print('Train feature count:', len(iris_setosa_label_data))\n",
    "print('Mean:', mean)\n",
    "print('Standard deviation:', stdevs)\n",
    "print('Prior:', prior)"
   ]
  },
  {
   "cell_type": "markdown",
   "metadata": {},
   "source": [
    "### 4) Gaussian probability density function (Gaussian PDF)\n",
    "\n",
    "Now we need to implement the gaussian probability density function to use for a single datapoint.\n",
    "\n",
    "**Note:** Look at the imports in the first cell at the top, it has some math numbers for easy use here. "
   ]
  },
  {
   "cell_type": "code",
   "execution_count": 10,
   "metadata": {},
   "outputs": [],
   "source": [
    "def gaussian_probability_density_function(x, mean, std):\n",
    "    x = np.array(x, dtype=np.float64)\n",
    "    mean = np.array(mean)\n",
    "    std = np.array(std)\n",
    "    exponent = np.exp(-((x - mean) ** 2 / (2 * std ** 2)))\n",
    "    return (1 / (np.sqrt(2 * np.pi) * std)) * exponent"
   ]
  },
  {
   "cell_type": "markdown",
   "metadata": {},
   "source": [
    "### 5) Testing Gaussian PDF"
   ]
  },
  {
   "cell_type": "markdown",
   "metadata": {},
   "source": [
    "We should test it to make sure it works. Train it, using the \"calculate_feature_statistics\" function, on one of the dataset classes. Then, take one datapoint from the same class and use naive bayes gaussian to make a prediction."
   ]
  },
  {
   "cell_type": "code",
   "execution_count": 11,
   "metadata": {},
   "outputs": [
    {
     "name": "stdout",
     "output_type": "stream",
     "text": [
      "[0.65158947 0.49314711 1.51226591 1.00371812]\n"
     ]
    }
   ],
   "source": [
    "# TODO: Implement the code below to test the \"gaussian_probability_density_function\" function for one of the classes.\n",
    "\n",
    "iris_setosa_train_data = np.array(iris_setosa_train_data)\n",
    "iris_setosa_feature_data,iris_setosa_label_data = class_split(iris_setosa_train_data)\n",
    "iris_setosa_feature_data = np.array(iris_setosa_feature_data, dtype=float)\n",
    "iris_setosa_dataset = iris_setosa_feature_data[0]\n",
    "stat = calculate_feature_statistics(iris_setosa_feature_data,iris_setosa_label_data)\n",
    "unique_labels = np.unique(iris_setosa_label_data).astype(int)\n",
    "label = unique_labels[0]\n",
    "mean = stat[label]['mean']\n",
    "stdevs = stat[label]['std']\n",
    "prior = stat[label]['prior']\n",
    "\n",
    "# TODO: Test with one datapoint from the learned class.\n",
    "prob_density = gaussian_probability_density_function(iris_setosa_dataset, mean, stdevs)\n",
    "\n",
    "# TODO: Print the probability density\n",
    "print(prob_density)"
   ]
  },
  {
   "cell_type": "markdown",
   "metadata": {},
   "source": [
    "As a test, take one datapoint from one of the other classes and see if the predicted probability changes."
   ]
  },
  {
   "cell_type": "code",
   "execution_count": 12,
   "metadata": {},
   "outputs": [
    {
     "name": "stdout",
     "output_type": "stream",
     "text": [
      "[0.51770916 0.42245738 0.76877134 1.46120941]\n"
     ]
    }
   ],
   "source": [
    "# TODO: Take one datapoint from one of the other classes.\n",
    "iris_versicolor_data = np.array(iris_versicolor)\n",
    "iris_versicolor_train_data, iris_versicolor_test_data = train_test_split(iris_versicolor_data)\n",
    "iris_versicolor_train_data = np.array(iris_versicolor_train_data)\n",
    "iris_versicolor_test_data = np.array(iris_versicolor_test_data)\n",
    "\n",
    "iris_versicolor_feature_data,iris_versicolor_label_data = class_split(iris_versicolor_train_data)\n",
    "iris_versicolor_feature_data = np.array(iris_versicolor_feature_data, dtype=float)\n",
    "iris_versicolor_dataset = iris_versicolor_feature_data[0]\n",
    "stat = calculate_feature_statistics(iris_versicolor_feature_data,iris_versicolor_label_data)\n",
    "\n",
    "unique_labels = np.unique(iris_versicolor_label_data).astype(int)\n",
    "label = unique_labels[0]\n",
    "mean = stat[label]['mean']\n",
    "stdevs = stat[label]['std']\n",
    "prior = stat[label]['prior']\n",
    "\n",
    "# TODO: Test with one datapoint from the learned class.\n",
    "prob_density = gaussian_probability_density_function(iris_versicolor_dataset, mean, stdevs)\n",
    "\n",
    "# TODO: Print the probability density\n",
    "print(prob_density)"
   ]
  },
  {
   "cell_type": "markdown",
   "metadata": {},
   "source": [
    "Think a bit why the probability changes, what could affect the prediction?"
   ]
  },
  {
   "cell_type": "markdown",
   "metadata": {},
   "source": [
    "## Prepare Naive Bayes for binary classification"
   ]
  },
  {
   "cell_type": "markdown",
   "metadata": {},
   "source": [
    "### 6) Prepare the data for inference\n",
    "\n",
    "Before we train and test the naive bayes for multiple classes, we should get our data in order.\n",
    "\n",
    "Similar to how we did previously, we should now split two classes into a train and test set, you may choose which two classes freely."
   ]
  },
  {
   "cell_type": "code",
   "execution_count": 13,
   "metadata": {},
   "outputs": [
    {
     "name": "stdout",
     "output_type": "stream",
     "text": [
      "Train features(first 5 rows):\n",
      "[[5.3 3.7 1.5 0.2]\n",
      " [5.  3.4 1.5 0.2]\n",
      " [6.1 2.8 4.  1.3]\n",
      " [6.5 2.8 4.6 1.5]\n",
      " [5.7 2.6 3.5 1. ]]\n",
      "\n",
      "Train labels:\n",
      "[0 0 1 1 1]\n",
      "\n",
      "Test features(first 5 rows):\n",
      "[[5.  3.6 1.4 0.2]\n",
      " [6.9 3.1 4.9 1.5]\n",
      " [4.3 3.  1.1 0.1]\n",
      " [6.7 3.1 4.4 1.4]\n",
      " [5.7 4.4 1.5 0.4]]\n",
      "\n",
      "Test labels:\n",
      "[0 1 0 1 0]\n",
      "\n"
     ]
    }
   ],
   "source": [
    "# TODO: Split two classes into train and test sets.\n",
    "filtered_data = data[data[:, -1] != 2].copy()\n",
    "train_data, test_data = train_test_split(filtered_data)\n",
    "\n",
    "# TODO: Sepearte the features and lables for both the train and test set.\n",
    "train_features, train_labels = class_split(train_data)\n",
    "test_features, test_labels = class_split(test_data)\n",
    "\n",
    "print(f\"Train features(first 5 rows):\\n{train_features[:5]}\\n\")\n",
    "print(f\"Train labels:\\n{train_labels[:5]}\\n\")\n",
    "print(f\"Test features(first 5 rows):\\n{test_features[:5]}\\n\")\n",
    "print(f\"Test labels:\\n{test_labels[:5]}\\n\")\n"
   ]
  },
  {
   "cell_type": "markdown",
   "metadata": {},
   "source": [
    "### 7) Class A vs Class B for binary classification\n",
    "\n",
    "**Note:** You might need to go back and forth a bit in the following cells during your implementation of your code.\n",
    "\n",
    "We have to get the probability from two sets of classes and compare the two probabilities in order to make a propper prediction.\n",
    "\n",
    "Here we will implement two functions to make this possible. We seperate these functions to make the implementation of the ROC-curve easier later on.\n",
    "\n",
    "**Function 1: naive_bayes_prediction** \n",
    "* A function that returns the probabilities for each class the model for a single datapoint.\n",
    "\n",
    "**Function 2: probabilities_to_prediction**\n",
    "* A function that takes in probabilities and returns a prediction."
   ]
  },
  {
   "cell_type": "code",
   "execution_count": 14,
   "metadata": {},
   "outputs": [],
   "source": [
    "def naive_bayes_prediction(feature_stats, data_point):\n",
    "    probabilities = {}\n",
    "\n",
    "    for class_label, stats in feature_stats.items():\n",
    "\n",
    "        likelihood = 1 \n",
    "\n",
    "        prior = stats['prior']\n",
    "        \n",
    "        for i, feature_value in enumerate(data_point):\n",
    "            mean = stats['mean'][i]\n",
    "            std_dev = stats['std'][i]\n",
    "            prob_density = gaussian_probability_density_function(feature_value, mean, std_dev)\n",
    "            likelihood *= prob_density \n",
    "        \n",
    "        prob = likelihood * prior\n",
    "        probabilities[class_label] = prob\n",
    "\n",
    "    predicted_probabilities = {class_label: probability for class_label, probability in probabilities.items()}\n",
    "\n",
    "    return predicted_probabilities\n"
   ]
  },
  {
   "cell_type": "code",
   "execution_count": 15,
   "metadata": {},
   "outputs": [],
   "source": [
    "def probabilities_to_prediction(probabilities):\n",
    "    class_prediction = max(probabilities, key=probabilities.get)\n",
    "    return class_prediction"
   ]
  },
  {
   "cell_type": "markdown",
   "metadata": {},
   "source": [
    "To test the function we need the feature metrics from the classes we choose. \n",
    "\n",
    "**Note:** Choose the correct train/test set and the correct feature/label split!"
   ]
  },
  {
   "cell_type": "code",
   "execution_count": 16,
   "metadata": {},
   "outputs": [
    {
     "name": "stdout",
     "output_type": "stream",
     "text": [
      "{0: {'mean': array([5.0325, 3.4175, 1.4875, 0.245 ]), 'std': array([0.33495335, 0.35418039, 0.15682395, 0.10943034]), 'prior': 0.5}, 1: {'mean': array([5.88  , 2.73  , 4.2225, 1.31  ]), 'std': array([0.50309045, 0.29257478, 0.48243523, 0.20099751]), 'prior': 0.5}}\n"
     ]
    }
   ],
   "source": [
    "# TODO: Get the feature metrics for the classes.\n",
    "feature_stats = calculate_feature_statistics(train_features, train_labels)\n",
    "print(feature_stats)"
   ]
  },
  {
   "cell_type": "markdown",
   "metadata": {},
   "source": [
    "Now we should have implemented all the neccessary parts to train a naive bayes algorithm and do inference on it. Implement a small test workflow for two of your chosen classes."
   ]
  },
  {
   "cell_type": "code",
   "execution_count": 17,
   "metadata": {},
   "outputs": [
    {
     "name": "stdout",
     "output_type": "stream",
     "text": [
      "Accuracy: 100.00%\n",
      "Probabilities:\n",
      " {0: 2.5358224228501267e-112, 1: 0.07759880986090066}\n",
      "Test labels:\n",
      " [0 1 0 1 0 1 1 1 0 1 0 0 0 1 0 0 1 1 0 1]\n",
      "Predictions:\n",
      " [0, 1, 0, 1, 0, 1, 1, 1, 0, 1, 0, 0, 0, 1, 0, 0, 1, 1, 0, 1]\n"
     ]
    }
   ],
   "source": [
    "# TODO: Test the \"naive_bayes_prediction\" function and implement all neccessary code for it to work.\n",
    "predictions = []\n",
    "for data_point in test_features:\n",
    "    probabilities = naive_bayes_prediction(feature_stats, data_point)\n",
    "    prediction = probabilities_to_prediction(probabilities)\n",
    "    predictions.append(prediction)\n",
    "\n",
    "# Calculate accuracy\n",
    "accuracy = np.mean(predictions == test_labels)\n",
    "print(f'Accuracy: {accuracy * 100:.2f}%')\n",
    "\n",
    "# TODO: Print the predicted class and the actual class for the test set\n",
    "print('Probabilities:\\n',probabilities)\n",
    "print('Test labels:\\n',test_labels)\n",
    "print('Predictions:\\n', predictions)"
   ]
  },
  {
   "cell_type": "markdown",
   "metadata": {},
   "source": [
    "## ROC-curve\n",
    "\n",
    "A ROC curve, or *Receiver Operating Characteristic curve*, is a graphical plot that illustrates the performance of a binary classifier such as our Naive Bayes model.\n",
    "\n",
    "More info can be found in the course material and here: [https://en.wikipedia.org/wiki/Receiver_operating_characteristic](https://en.wikipedia.org/wiki/Receiver_operating_characteristic)\n",
    "\n",
    "Another good illustration by Google can be found here: [https://developers.google.com/machine-learning/crash-course/classification/roc-and-auc](https://developers.google.com/machine-learning/crash-course/classification/roc-and-auc)\n",
    "\n",
    "Now that we have a prediction model, we would want to try it out and test it using a ROC-curve."
   ]
  },
  {
   "cell_type": "markdown",
   "metadata": {},
   "source": [
    "### 8) True Positive Rate (TPR) and False Positive Rate (FPR)\n",
    "\n",
    "From our prediction function we get probabilities, and for prediction purposes we have just predicted the one with the highest probability.\n",
    "\n",
    "To plot a ROC-curve, we need the TPR and FPR for the binary classification. We will implement this here.\n",
    "\n",
    "**Note 1:** The threshold is is a value that goes from 0 to 1. \n",
    "\n",
    "**Note 2:** One of the two classes will be seen as \"the positive class\" (prediction over the threshold) and the other as \"the negative class\" (prediction under the threshold).\n",
    "\n",
    "**Note 3:** The threshold stepsize will decide the size of the returned TPR/FPR list. A value of 0.1 will give 10 elements (0 to 1 in increments of 0.1)"
   ]
  },
  {
   "cell_type": "code",
   "execution_count": 18,
   "metadata": {},
   "outputs": [
    {
     "name": "stdout",
     "output_type": "stream",
     "text": [
      "Python list: [0.0, 0.1, 0.2, 0.3, 0.4, 0.5, 0.6, 0.7, 0.8, 0.9]\n",
      "Numpy linspace: [0.  0.1 0.2 0.3 0.4 0.5 0.6 0.7 0.8 0.9 1. ]\n",
      "Numpy linspace (no endpoint): [0.  0.1 0.2 0.3 0.4 0.5 0.6 0.7 0.8 0.9]\n"
     ]
    }
   ],
   "source": [
    "# Stepsize demonstration\n",
    "print(\"Python list:\", [x/10 for x in range(0,10,1)])\n",
    "\n",
    "# Stepsize demonstration with numpy:\n",
    "print(\"Numpy linspace:\", np.linspace(0,1,11))\n",
    "print(\"Numpy linspace (no endpoint):\", np.linspace(0,1,10,endpoint=False))"
   ]
  },
  {
   "cell_type": "code",
   "execution_count": 19,
   "metadata": {},
   "outputs": [],
   "source": [
    "def TPR_and_FPR(prediction_probabilities, test_labels, threshold_stepsize=0.1):\n",
    "\n",
    "    #print('test_labels',test_labels)\n",
    "    \n",
    "    unique_classes = np.unique(test_labels)\n",
    "    class_1, class_2 = unique_classes[0], unique_classes[1]\n",
    "    true_binary = np.array([1 if label == class_2 else 0 for label in test_labels])\n",
    "    #print('true_binary',true_binary)\n",
    "    scores_binary = np.array(prediction_probabilities)\n",
    "    #print('scores_binary',scores_binary)\n",
    "    thresholds = np.linspace(0, 1, int(1/threshold_stepsize) + 1)\n",
    "    #thresholds = np.unique(scores_binary)\n",
    "    TPR = []\n",
    "    FPR = []\n",
    "\n",
    "    for threshold in thresholds:\n",
    "\n",
    "        predicted = (scores_binary >= threshold).astype(int)\n",
    "\n",
    "        TP = np.sum((predicted == 1) & (true_binary == 1))\n",
    "        FP = np.sum((predicted == 1) & (true_binary == 0))\n",
    "        FN = np.sum((predicted == 0) & (true_binary == 1))\n",
    "        TN = np.sum((predicted == 0) & (true_binary == 0))\n",
    "\n",
    "        #print(f\"Threshold: {threshold}, TP: {TP}, FP: {FP}, FN: {FN}, TN: {TN}\")\n",
    "\n",
    "        \n",
    "        TPR_value = TP / (TP + FN) if (TP + FN) > 0 else 0\n",
    "        FPR_value = FP / (FP + TN) if (FP + TN) > 0 else 0\n",
    "        #print(f\"predicted: {predicted}, scores_binary: {scores_binary}, true_binary: {true_binary}, TPR_value: {TPR_value}, FPR_value: {FPR_value}\")\n",
    "\n",
    "        TPR.append(TPR_value)\n",
    "        FPR.append(FPR_value)\n",
    "\n",
    "    #print('TPR',TPR)\n",
    "    #print('FPR',FPR)\n",
    "    return TPR, FPR\n"
   ]
  },
  {
   "cell_type": "code",
   "execution_count": 20,
   "metadata": {},
   "outputs": [
    {
     "name": "stdout",
     "output_type": "stream",
     "text": [
      "TPR [1.0, 0.4, 0.4, 0.3, 0.1, 0.1, 0.1, 0.1, 0.0, 0.0, 0.0]\n",
      "FPR [1.0, 0.0, 0.0, 0.0, 0.0, 0.0, 0.0, 0.0, 0.0, 0.0, 0.0]\n"
     ]
    }
   ],
   "source": [
    "# TODO: Test the \"TPR_and_FPR\" function on the model you have created previously.\n",
    "threshold_stepsize = 0.1\n",
    "unique_classes = np.unique(test_labels)\n",
    "class_1, class_2 = unique_classes[0], unique_classes[1]\n",
    "\n",
    "prediction_probabilities = np.array([naive_bayes_prediction(feature_stats, test_features[i]).get(class_2,class_1) for i in range(len(test_features))])\n",
    "TPR, FPR = TPR_and_FPR(prediction_probabilities, test_labels, threshold_stepsize)\n",
    "\n",
    "print('TPR',TPR)\n",
    "print('FPR',FPR)"
   ]
  },
  {
   "cell_type": "markdown",
   "metadata": {},
   "source": [
    "How does the values change if you change the threshold stepsize? \n",
    "\n",
    "How does the values change if you change the classes you compare?"
   ]
  },
  {
   "cell_type": "markdown",
   "metadata": {},
   "source": [
    "### 9) Plot the TPR and FPR\n",
    "\n",
    "To better see what is going on, we can plot the TPR and FPR. We can also calculate the Area Under the ROC Curve (AUC or AUROC) at the same time."
   ]
  },
  {
   "cell_type": "code",
   "execution_count": 21,
   "metadata": {},
   "outputs": [],
   "source": [
    "def plot_ROC(TPR, FPR, class_1, class_2):\n",
    "\n",
    "    class_map = {\n",
    "        0: 'Iris-setosa',\n",
    "        1: 'Iris-versicolor',\n",
    "        2: 'Iris-virginica'\n",
    "    }\n",
    "    class_1_name = class_map.get(class_1, f\"Class {class_1}\")\n",
    "    class_2_name = class_map.get(class_2, f\"Class {class_2}\")\n",
    "    \n",
    "    auc_score = np.trapz(np.sort(TPR), np.sort(FPR))\n",
    "    \n",
    "    plt.plot(FPR, TPR, color='b', label=f\"AUC = {auc_score:.2f}\")\n",
    "    plt.plot([0, 1], [0, 1], linestyle='dashdot', color='r')\n",
    "    \n",
    "    plt.xlabel('False Positive Rate')\n",
    "    plt.ylabel('True Positive Rate')\n",
    "    plt.title(f\"ROC Curve: {class_1_name} vs. {class_2_name}\")\n",
    "    \n",
    "    plt.legend()\n",
    "    plt.show()"
   ]
  },
  {
   "cell_type": "code",
   "execution_count": 22,
   "metadata": {},
   "outputs": [
    {
     "name": "stdout",
     "output_type": "stream",
     "text": [
      "Test Labels: [0 1 0 1 0 1 1 1 0 1 0 0 0 1 0 0 1 1 0 1]\n",
      "TPR: [1.0, 0.4, 0.4, 0.3, 0.1, 0.1, 0.1, 0.1, 0.0, 0.0, 0.0]\n",
      "FPR: [1.0, 0.0, 0.0, 0.0, 0.0, 0.0, 0.0, 0.0, 0.0, 0.0, 0.0]\n"
     ]
    },
    {
     "data": {
      "image/png": "[encoded data removed]",
      "text/plain": [
       "<Figure size 640x480 with 1 Axes>"
      ]
     },
     "metadata": {},
     "output_type": "display_data"
    }
   ],
   "source": [
    "threshold_stepsize = 0.1\n",
    "unique_classes = np.unique(test_labels)\n",
    "class_1, class_2 = unique_classes[0], unique_classes[1]\n",
    "\n",
    "prediction_probabilities = np.array([naive_bayes_prediction(feature_stats, test_features[i]).get(class_2, class_1) for i in range(len(test_features))])\n",
    "TPR, FPR = TPR_and_FPR(prediction_probabilities, test_labels, threshold_stepsize)\n",
    "\n",
    "print(\"Test Labels:\", test_labels)\n",
    "print(\"TPR:\", TPR)\n",
    "print(\"FPR:\", FPR)\n",
    "plot_ROC(TPR, FPR, class_1, class_2)\n",
    "\n"
   ]
  },
  {
   "cell_type": "markdown",
   "metadata": {},
   "source": [
    "## Cross-validation\n",
    "\n",
    "The final task is to take everything you have implemented so far and apply it in a cross-validation loop.\n",
    "\n",
    "**Note 1:** To better reflect a real scenarios, you should shuffle the data before doing cross-validation.\n",
    "\n",
    "**Note 2:** When using cross-validation, the interesting thing is the mean performance (mean AUC, mean accuracy, mean ROC-curve).\n",
    "\n",
    "**Note 3:** This part is a bit more free in terms of implementation, but make sure to use some of the previously implemented functions."
   ]
  },
  {
   "cell_type": "markdown",
   "metadata": {},
   "source": [
    "### 10) Cross-validation loop"
   ]
  },
  {
   "cell_type": "code",
   "execution_count": 23,
   "metadata": {},
   "outputs": [],
   "source": [
    "def cross_validation(data, target, folds=10, threshold_stepsize=0.1):\n",
    "\n",
    "    unique_classes = np.unique(target)\n",
    "    class_1, class_2 = unique_classes[0], unique_classes[1]\n",
    "\n",
    "    indices = list(range(len(data)))\n",
    "    np.random.shuffle(indices)\n",
    "\n",
    "    shuffled_data, shuffled_target = data[indices], target[indices]\n",
    "    fold_size = len(data) // folds\n",
    "\n",
    "    all_TPR, all_FPR = [], []\n",
    "\n",
    "    for i in range(folds):\n",
    "\n",
    "        start, end = i * fold_size, (i + 1) * fold_size\n",
    "        test_data, test_labels = shuffled_data[start:end], shuffled_target[start:end]\n",
    "        train_data = np.concatenate((shuffled_data[:start], shuffled_data[end:]), axis=0)\n",
    "        train_labels = np.concatenate((shuffled_target[:start], shuffled_target[end:]), axis=0)\n",
    "        feature_stats = calculate_feature_statistics(train_data, train_labels)\n",
    "\n",
    "        prediction_probabilities = [naive_bayes_prediction(feature_stats, x)[class_2] for x in test_data]\n",
    "\n",
    "        TPR, FPR = TPR_and_FPR(prediction_probabilities, test_labels, threshold_stepsize)\n",
    "\n",
    "        all_TPR.append(TPR)\n",
    "        all_FPR.append(FPR)\n",
    "\n",
    "    mean_TPR = np.mean(all_TPR, axis=0)\n",
    "    mean_FPR = np.mean(all_FPR, axis=0)\n",
    "\n",
    "    plot_ROC(mean_TPR, mean_FPR, class_1, class_2)\n",
    "\n",
    "    return mean_TPR, mean_FPR\n"
   ]
  },
  {
   "cell_type": "markdown",
   "metadata": {},
   "source": [
    "### 11) 10-fold Cross-validation on all classes\n",
    "\n",
    "Test the \"cross_validation\" function on all the classes against eachother using 10 folds.\n",
    "\n",
    "* Iris-setosa vs Iris-versicolor\n",
    "* Iris-setosa vs Iris-virginica\n",
    "* Iris-versicolor vs Iris-virginica"
   ]
  },
  {
   "cell_type": "code",
   "execution_count": 24,
   "metadata": {},
   "outputs": [
    {
     "data": {
      "image/png": "[encoded data removed]",
      "text/plain": [
       "<Figure size 640x480 with 1 Axes>"
      ]
     },
     "metadata": {},
     "output_type": "display_data"
    },
    {
     "data": {
      "text/plain": [
       "(array([1.        , 0.5975    , 0.48416667, 0.37166667, 0.28833333,\n",
       "        0.12666667, 0.07666667, 0.04      , 0.02      , 0.        ,\n",
       "        0.        ]),\n",
       " array([1., 0., 0., 0., 0., 0., 0., 0., 0., 0., 0.]))"
      ]
     },
     "execution_count": 24,
     "metadata": {},
     "output_type": "execute_result"
    }
   ],
   "source": [
    "# TODO: Implement and test cross-validation function on all classes.\n",
    "class_A = data[data[:, -1] != 2].copy()\n",
    "target = class_A[:, -1]\n",
    "test = class_A[:, :-1] \n",
    "\n",
    "cross_validation(test, target, folds=10, threshold_stepsize=0.1)"
   ]
  },
  {
   "cell_type": "code",
   "execution_count": 25,
   "metadata": {},
   "outputs": [
    {
     "data": {
      "image/png": "[encoded data removed]",
      "text/plain": [
       "<Figure size 640x480 with 1 Axes>"
      ]
     },
     "metadata": {},
     "output_type": "display_data"
    },
    {
     "data": {
      "text/plain": [
       "(array([1.        , 0.39047619, 0.2102381 , 0.12095238, 0.03333333,\n",
       "        0.        , 0.        , 0.        , 0.        , 0.        ,\n",
       "        0.        ]),\n",
       " array([1., 0., 0., 0., 0., 0., 0., 0., 0., 0., 0.]))"
      ]
     },
     "execution_count": 25,
     "metadata": {},
     "output_type": "execute_result"
    }
   ],
   "source": [
    "# TODO: Implement and test cross-validation function on all classes.\n",
    "class_B = data[data[:, -1] != 1].copy()\n",
    "target = class_B[:, -1]\n",
    "test = class_B[:, :-1] \n",
    "\n",
    "cross_validation(test, target, folds=10, threshold_stepsize=0.1)"
   ]
  },
  {
   "cell_type": "code",
   "execution_count": 26,
   "metadata": {},
   "outputs": [
    {
     "data": {
      "image/png": "[encoded data removed]",
      "text/plain": [
       "<Figure size 640x480 with 1 Axes>"
      ]
     },
     "metadata": {},
     "output_type": "display_data"
    },
    {
     "data": {
      "text/plain": [
       "(array([1.        , 0.42702381, 0.24369048, 0.06107143, 0.        ,\n",
       "        0.        , 0.        , 0.        , 0.        , 0.        ,\n",
       "        0.        ]),\n",
       " array([1.  , 0.02, 0.  , 0.  , 0.  , 0.  , 0.  , 0.  , 0.  , 0.  , 0.  ]))"
      ]
     },
     "execution_count": 26,
     "metadata": {},
     "output_type": "execute_result"
    }
   ],
   "source": [
    "# TODO: Implement and test cross-validation function on all classes.\n",
    "class_C = data[data[:, -1] != 0].copy()\n",
    "target = class_C[:, -1]\n",
    "test = class_C[:, :-1] \n",
    "\n",
    "cross_validation(test, target, folds=10, threshold_stepsize=0.1)"
   ]
  },
  {
   "cell_type": "markdown",
   "metadata": {},
   "source": [
    "# Questions for examination:\n",
    "\n",
    "In addition to completing the assignment with all its tasks, you should also prepare to answer the following questions:\n",
    "\n",
    "1) Why is it called \"naive bayes\"?\n",
    "\n",
    "2) What are some downsides of the naive bayes learning algorithm?\n",
    "\n",
    "3) When using ROC-curves, what is the theoretical best and worst result you can get?\n",
    "\n",
    "4) When using ROC-curves, in this assignment for example, is a higher threshold-stepsize always better?  \n",
    "\n",
    "5) When using cross-validation and ROC-curves, why is it important to take the correct mean values? What could go wrong?\n"
   ]
  },
  {
   "cell_type": "markdown",
   "metadata": {},
   "source": [
    "# Finished!\n",
    "\n",
    "Was part of the setup incorrect? Did you spot any inconsistencies in the assignment? Could something improve?\n",
    "\n",
    "If so, please write them and send via email and send it to:\n",
    "\n",
    "* marcus.gullstrand@ju.se\n",
    "\n",
    "Thank you!"
   ]
  }
 ],
 "metadata": {
  "kernelspec": {
   "display_name": "ml",
   "language": "python",
   "name": "ml"
  },
  "language_info": {
   "codemirror_mode": {
    "name": "ipython",
    "version": 3
   },
   "file_extension": ".py",
   "mimetype": "text/x-python",
   "name": "python",
   "nbconvert_exporter": "python",
   "pygments_lexer": "ipython3",
   "version": "3.11.7"
  }
 },
 "nbformat": 4,
 "nbformat_minor": 4
}
